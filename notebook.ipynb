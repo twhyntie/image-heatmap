{
 "metadata": {
  "name": "",
  "signature": ""
 },
 "nbformat": 3,
 "nbformat_minor": 0,
 "worksheets": [
  {
   "cells": [
    {
     "cell_type": "markdown",
     "metadata": {},
     "source": [
      "#Creating the Heat Map\n"
      "You can create the heat map using the following command:\n"
      "```bash\n"
      "$ python make_image_heatmap.py\n"
      "```\n"
      "_To be continued...?_"
     ]
    }
   ]
  }
 ]
}
